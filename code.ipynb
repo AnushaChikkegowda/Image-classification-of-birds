{
  "cells": [
    {
      "cell_type": "markdown",
      "source": [
        "#Task 2: Fine Grained Image Classifications of Bird"
      ],
      "metadata": {
        "id": "u5slhsklZC2R"
      }
    },
    {
      "cell_type": "markdown",
      "source": [
        "Mounting the google drive"
      ],
      "metadata": {
        "id": "THQUJzMKZRhF"
      }
    },
    {
      "cell_type": "code",
      "execution_count": null,
      "metadata": {
        "id": "YPhFUUEruuFJ",
        "colab": {
          "base_uri": "https://localhost:8080/"
        },
        "outputId": "ffe1c7f0-f890-4501-ebd3-7f0e2a2923ba"
      },
      "outputs": [
        {
          "output_type": "stream",
          "name": "stdout",
          "text": [
            "Mounted at /content/drive\n"
          ]
        }
      ],
      "source": [
        "from google.colab import drive\n",
        "drive.mount('/content/drive', force_remount=True) "
      ]
    },
    {
      "cell_type": "markdown",
      "source": [
        "Data preparation"
      ],
      "metadata": {
        "id": "_vjJ20N2dUr2"
      }
    },
    {
      "cell_type": "code",
      "execution_count": null,
      "metadata": {
        "id": "ev4xnkb1vkmO"
      },
      "outputs": [],
      "source": [
        "import zipfile\n",
        "zip_file = \"/content/drive/My Drive/Deep Learning/task2/bird_CUB_200_2011.zip\"\n",
        "# extract location\n",
        "extract_path = \"/content/DeepLearning/task2/\"\n",
        "# create a ZipFile object\n",
        "with zipfile.ZipFile(zip_file, 'r') as zip_obj:\n",
        "  # extract all the contents of the zip file to the specified directory \n",
        "  zip_obj.extractall(extract_path)"
      ]
    },
    {
      "cell_type": "code",
      "execution_count": null,
      "metadata": {
        "colab": {
          "base_uri": "https://localhost:8080/"
        },
        "id": "od4wmPdIVfAn",
        "outputId": "cf94591b-ad4b-48a1-b279-f3d42c743f96"
      },
      "outputs": [
        {
          "output_type": "stream",
          "name": "stdout",
          "text": [
            "Folder and subfolders created: /content/DeepLearning/task2/split_dataset\n"
          ]
        }
      ],
      "source": [
        "import os\n",
        "import shutil\n",
        "# specify the path to the directory where you want to create the folders\n",
        "dir_path = \"/content/DeepLearning/task2\"\n",
        "\n",
        "# specify the names of the folders you want to create\n",
        "folder_name = \"split_dataset\"\n",
        "subfolder1_name = \"train\"\n",
        "subfolder2_name = \"test\"\n",
        "\n",
        "# join the directory path and folder names\n",
        "folder_path = os.path.join(dir_path, folder_name)\n",
        "subfolder1_path = os.path.join(folder_path, subfolder1_name)\n",
        "subfolder2_path = os.path.join(folder_path, subfolder2_name)\n",
        "\n",
        "# check if the folders exist, and create them if they don't\n",
        "if not os.path.exists(folder_path):\n",
        "    os.makedirs(subfolder1_path)\n",
        "    os.makedirs(subfolder2_path)\n",
        "    print(\"Folder and subfolders created:\", folder_path)\n",
        "else:\n",
        "    print(\"Folder and subfolders already exist:\", folder_path)"
      ]
    },
    {
      "cell_type": "code",
      "execution_count": null,
      "metadata": {
        "colab": {
          "base_uri": "https://localhost:8080/"
        },
        "id": "c36upLTMS_QF",
        "outputId": "de51a9fb-a369-42d7-f67c-a80f81fe7640"
      },
      "outputs": [
        {
          "output_type": "stream",
          "name": "stdout",
          "text": [
            "Moved 5794 images to test directory\n",
            "Moved 5994 images to train directory\n"
          ]
        }
      ],
      "source": [
        "import os\n",
        "import shutil\n",
        "\n",
        "img_dir = '/content/DeepLearning/task2/CUB_200_2011/images'\n",
        "img_txt = '/content/DeepLearning/task2/CUB_200_2011/images.txt'\n",
        "split_file = '/content/DeepLearning/task2/CUB_200_2011/train_test_split.txt'\n",
        "\n",
        "test_count = 0\n",
        "train_count = 0\n",
        "\n",
        "with open(img_txt, 'r') as img_info:\n",
        "  with open(split_file, 'r') as split_info:\n",
        "    for line_img, line_split in zip(img_info, split_info):\n",
        "      line_img = line_img.strip().split(' ')\n",
        "      \n",
        "      line_split = line_split.strip().split(' ')\n",
        "      \n",
        "      sub_dir=line_img[1].split('/')\n",
        "\n",
        "      if line_img[0] == line_split[0]:\n",
        "        if line_split[1] == '0':\n",
        "\n",
        "          subfolder_path=os.path.join('/content/DeepLearning/task2/split_dataset/test',sub_dir[0])\n",
        "          if not os.path.exists(subfolder_path):\n",
        "            os.makedirs(subfolder_path)\n",
        "          \n",
        "          path = os.path.join(img_dir, line_img[1])\n",
        "          #image = tf.keras.utils.load_img(path)\n",
        "          dest_path = os.path.join(subfolder_path, os.path.basename(path))\n",
        "          shutil.move(path, dest_path)\n",
        "          test_count += 1\n",
        "        elif line_split[1] == '1':\n",
        "          subfolder_path=os.path.join('/content/DeepLearning/task2/split_dataset/train',sub_dir[0])\n",
        "          if not os.path.exists(subfolder_path):\n",
        "            os.makedirs(subfolder_path)\n",
        "\n",
        "          path = os.path.join(img_dir, line_img[1])\n",
        "          #image = tf.keras.utils.load_img(path)\n",
        "          dest_path = os.path.join(subfolder_path, os.path.basename(path))\n",
        "          shutil.move(path, dest_path)\n",
        "          train_count += 1\n",
        "\n",
        "print(f\"Moved {test_count} images to test directory\")\n",
        "print(f\"Moved {train_count} images to train directory\")"
      ]
    },
    {
      "cell_type": "markdown",
      "source": [
        "Loading and preprocessing the data from test and train directories. Image datasets are generated"
      ],
      "metadata": {
        "id": "vz2RFGm8dPI2"
      }
    },
    {
      "cell_type": "code",
      "execution_count": null,
      "metadata": {
        "colab": {
          "base_uri": "https://localhost:8080/"
        },
        "id": "GYFJ9gZ9bwYe",
        "outputId": "cdd02c59-98b6-4b19-a10d-55988ed12180"
      },
      "outputs": [
        {
          "output_type": "stream",
          "name": "stdout",
          "text": [
            "Found 5794 images belonging to 200 classes.\n",
            "Found 5994 images belonging to 200 classes.\n",
            "Found 594 images belonging to 200 classes.\n"
          ]
        }
      ],
      "source": [
        "from tensorflow.keras.preprocessing.image import ImageDataGenerator\n",
        "\n",
        "\n",
        "#normalize to scale between 0 and 1\n",
        "train_datagen = ImageDataGenerator(\n",
        "        rescale=1 / 255.0,\n",
        "        rotation_range=20,\n",
        "        zoom_range=0.05,\n",
        "        width_shift_range=0.05,\n",
        "        height_shift_range=0.05,\n",
        "        shear_range=0.05,\n",
        "        horizontal_flip=True,\n",
        "        fill_mode=\"nearest\",\n",
        "        validation_split=0.10)\n",
        "\n",
        "test_datagen = ImageDataGenerator(rescale=1 / 255.0)\n",
        "test_generator =  test_datagen.flow_from_directory('/content/DeepLearning/task2/split_dataset/test',\n",
        "                                             target_size= (224, 224),\n",
        "                                             class_mode='categorical',\n",
        "                                             color_mode='rgb', batch_size=32, \n",
        "                                             shuffle=False)\n",
        "\n",
        "\n",
        "train_generator =  train_datagen.flow_from_directory('/content/DeepLearning/task2/split_dataset/train',\n",
        "                                             target_size= (224, 224),\n",
        "                                             class_mode='categorical',\n",
        "                                             color_mode='rgb', batch_size=32,shuffle=True)\n",
        "\n",
        "valid_generator = train_datagen.flow_from_directory('/content/DeepLearning/task2/split_dataset/train',\n",
        "                                             target_size= (224, 224), \n",
        "                                             class_mode='categorical',\n",
        "                                             color_mode='rgb', batch_size=32, subset='validation',shuffle=True)\n",
        "\n",
        "\n",
        "\n"
      ]
    },
    {
      "cell_type": "markdown",
      "source": [
        "Model Building"
      ],
      "metadata": {
        "id": "nz44bwbwdstB"
      }
    },
    {
      "cell_type": "code",
      "source": [
        "from tensorflow.keras.models import Model\n",
        "import tensorflow as tf\n",
        "from tensorflow.keras.applications import InceptionV3\n",
        "from tensorflow.keras.callbacks import LearningRateScheduler, ModelCheckpoint, EarlyStopping\n",
        "\n",
        "IMAGE_SIZE = [224, 224]\n",
        "base_model = InceptionV3( input_shape=IMAGE_SIZE + [3],  weights='imagenet',include_top=False,)\n",
        "\n",
        "from tensorflow.keras.layers import Dense, GlobalAveragePooling2D\n",
        "\n",
        "x = base_model.output\n",
        "x = GlobalAveragePooling2D()(x)\n",
        "x = Dense(1024, activation='relu')(x)\n",
        "predictions = Dense(200, activation='softmax')(x)"
      ],
      "metadata": {
        "id": "H81-jkvbH-Bs"
      },
      "execution_count": 23,
      "outputs": []
    },
    {
      "cell_type": "code",
      "source": [
        "#early stopping with validation loss to onitor\n",
        "es = EarlyStopping(monitor=\"val_loss\",patience=10,verbose=0,mode=\"auto\")\n",
        "checkpoint_filepath = \"/content/drive/MyDrive/Deep Learning/task2/task2_checkpoints/Inception_net/adam/inception_net_checkpoints.{epoch:03d}\"\n",
        "\n",
        "# Create a ModelCheckpoint callback to save the model at each checkpoint\n",
        "model_checkpoint_callback = ModelCheckpoint(\n",
        "    filepath=checkpoint_filepath,\n",
        "    save_weights_only=False,\n",
        "    monitor='val_loss',\n",
        "    mode='min',\n",
        "    save_best_only=False)"
      ],
      "metadata": {
        "id": "8E3qDvYsH-Fj"
      },
      "execution_count": 28,
      "outputs": []
    },
    {
      "cell_type": "code",
      "source": [
        "\n",
        "# Define the function to adjust the learning rate\n",
        "# define the learning rate schedule function based on accuracy\n",
        "def lr_schedule(epoch, accuracy):\n",
        "    if accuracy < 0.7:\n",
        "        return 0.0001\n",
        "    \n",
        "    else:\n",
        "        return 0.00001\n",
        "\n",
        "# Create a LearningRateScheduler callback to adjust the learning rate at each epoch\n",
        "lr_scheduler_callback = LearningRateScheduler(lr_schedule)"
      ],
      "metadata": {
        "id": "oYXPlfMJIXDJ"
      },
      "execution_count": 29,
      "outputs": []
    },
    {
      "cell_type": "markdown",
      "source": [
        "Model Compiling and training"
      ],
      "metadata": {
        "id": "d4WTm0hwMHlD"
      }
    },
    {
      "cell_type": "code",
      "source": [
        "#compile and fit the model\n",
        "model = Model(inputs=base_model.input, outputs=predictions)\n",
        "model.compile(optimizer='adam', loss='categorical_crossentropy', metrics=['accuracy'])\n",
        "\n",
        "model.fit(train_generator, callbacks = [es, model_checkpoint_callback, lr_scheduler_callback], validation_data=valid_generator, batch_size = 32, epochs = 30)\n",
        "#model saved in the path given\n",
        "model.save('/content/drive/MyDrive/Deep Learning/task2/task2_inception_net_adam_model_final1.h5')"
      ],
      "metadata": {
        "colab": {
          "base_uri": "https://localhost:8080/"
        },
        "id": "meJo7gIb1vEP",
        "outputId": "8cb15994-84c9-49aa-d8e8-ac6801561488"
      },
      "execution_count": 17,
      "outputs": [
        {
          "output_type": "stream",
          "name": "stdout",
          "text": [
            "Epoch 1/30\n",
            "188/188 [==============================] - ETA: 0s - loss: 4.2878 - accuracy: 0.1505"
          ]
        },
        {
          "output_type": "stream",
          "name": "stderr",
          "text": [
            "WARNING:absl:Found untraced functions such as _jit_compiled_convolution_op, _jit_compiled_convolution_op, _jit_compiled_convolution_op, _jit_compiled_convolution_op, _jit_compiled_convolution_op while saving (showing 5 of 94). These functions will not be directly callable after loading.\n"
          ]
        },
        {
          "output_type": "stream",
          "name": "stdout",
          "text": [
            "\b\b\b\b\b\b\b\b\b\b\b\b\b\b\b\b\b\b\b\b\b\b\b\b\b\b\b\b\b\b\b\b\b\b\b\b\b\b\b\b\b\b\b\b\b\b\b\b\b\b\b\b\b\b\b\b\b\b\b\b\b\b\b\b\b\b\b\b\b\b\b\b\b\b\b\b\b\b\b\b\b\b\b\b\r188/188 [==============================] - 175s 751ms/step - loss: 4.2878 - accuracy: 0.1505 - val_loss: 2.4468 - val_accuracy: 0.3822 - lr: 1.0000e-04\n",
            "Epoch 2/30\n",
            "188/188 [==============================] - ETA: 0s - loss: 1.9534 - accuracy: 0.5043"
          ]
        },
        {
          "output_type": "stream",
          "name": "stderr",
          "text": [
            "WARNING:absl:Found untraced functions such as _jit_compiled_convolution_op, _jit_compiled_convolution_op, _jit_compiled_convolution_op, _jit_compiled_convolution_op, _jit_compiled_convolution_op while saving (showing 5 of 94). These functions will not be directly callable after loading.\n"
          ]
        },
        {
          "output_type": "stream",
          "name": "stdout",
          "text": [
            "\b\b\b\b\b\b\b\b\b\b\b\b\b\b\b\b\b\b\b\b\b\b\b\b\b\b\b\b\b\b\b\b\b\b\b\b\b\b\b\b\b\b\b\b\b\b\b\b\b\b\b\b\b\b\b\b\b\b\b\b\b\b\b\b\b\b\b\b\b\b\b\b\b\b\b\b\b\b\b\b\b\b\b\b\r188/188 [==============================] - 137s 730ms/step - loss: 1.9534 - accuracy: 0.5043 - val_loss: 1.1490 - val_accuracy: 0.6886 - lr: 1.0000e-04\n",
            "Epoch 3/30\n",
            "188/188 [==============================] - ETA: 0s - loss: 1.0842 - accuracy: 0.7030"
          ]
        },
        {
          "output_type": "stream",
          "name": "stderr",
          "text": [
            "WARNING:absl:Found untraced functions such as _jit_compiled_convolution_op, _jit_compiled_convolution_op, _jit_compiled_convolution_op, _jit_compiled_convolution_op, _jit_compiled_convolution_op while saving (showing 5 of 94). These functions will not be directly callable after loading.\n"
          ]
        },
        {
          "output_type": "stream",
          "name": "stdout",
          "text": [
            "\b\b\b\b\b\b\b\b\b\b\b\b\b\b\b\b\b\b\b\b\b\b\b\b\b\b\b\b\b\b\b\b\b\b\b\b\b\b\b\b\b\b\b\b\b\b\b\b\b\b\b\b\b\b\b\b\b\b\b\b\b\b\b\b\b\b\b\b\b\b\b\b\b\b\b\b\b\b\b\b\b\b\b\b\r188/188 [==============================] - 137s 727ms/step - loss: 1.0842 - accuracy: 0.7030 - val_loss: 0.6393 - val_accuracy: 0.8266 - lr: 1.0000e-04\n",
            "Epoch 4/30\n",
            "188/188 [==============================] - ETA: 0s - loss: 0.6956 - accuracy: 0.8110"
          ]
        },
        {
          "output_type": "stream",
          "name": "stderr",
          "text": [
            "WARNING:absl:Found untraced functions such as _jit_compiled_convolution_op, _jit_compiled_convolution_op, _jit_compiled_convolution_op, _jit_compiled_convolution_op, _jit_compiled_convolution_op while saving (showing 5 of 94). These functions will not be directly callable after loading.\n"
          ]
        },
        {
          "output_type": "stream",
          "name": "stdout",
          "text": [
            "\b\b\b\b\b\b\b\b\b\b\b\b\b\b\b\b\b\b\b\b\b\b\b\b\b\b\b\b\b\b\b\b\b\b\b\b\b\b\b\b\b\b\b\b\b\b\b\b\b\b\b\b\b\b\b\b\b\b\b\b\b\b\b\b\b\b\b\b\b\b\b\b\b\b\b\b\b\b\b\b\b\b\b\b\r188/188 [==============================] - 185s 987ms/step - loss: 0.6956 - accuracy: 0.8110 - val_loss: 0.4007 - val_accuracy: 0.8906 - lr: 1.0000e-04\n",
            "Epoch 5/30\n",
            "188/188 [==============================] - ETA: 0s - loss: 0.4556 - accuracy: 0.8745"
          ]
        },
        {
          "output_type": "stream",
          "name": "stderr",
          "text": [
            "WARNING:absl:Found untraced functions such as _jit_compiled_convolution_op, _jit_compiled_convolution_op, _jit_compiled_convolution_op, _jit_compiled_convolution_op, _jit_compiled_convolution_op while saving (showing 5 of 94). These functions will not be directly callable after loading.\n"
          ]
        },
        {
          "output_type": "stream",
          "name": "stdout",
          "text": [
            "\b\b\b\b\b\b\b\b\b\b\b\b\b\b\b\b\b\b\b\b\b\b\b\b\b\b\b\b\b\b\b\b\b\b\b\b\b\b\b\b\b\b\b\b\b\b\b\b\b\b\b\b\b\b\b\b\b\b\b\b\b\b\b\b\b\b\b\b\b\b\b\b\b\b\b\b\b\b\b\b\b\b\b\b\r188/188 [==============================] - 137s 730ms/step - loss: 0.4556 - accuracy: 0.8745 - val_loss: 0.2821 - val_accuracy: 0.9242 - lr: 1.0000e-04\n",
            "Epoch 6/30\n",
            "188/188 [==============================] - ETA: 0s - loss: 0.3280 - accuracy: 0.9124"
          ]
        },
        {
          "output_type": "stream",
          "name": "stderr",
          "text": [
            "WARNING:absl:Found untraced functions such as _jit_compiled_convolution_op, _jit_compiled_convolution_op, _jit_compiled_convolution_op, _jit_compiled_convolution_op, _jit_compiled_convolution_op while saving (showing 5 of 94). These functions will not be directly callable after loading.\n"
          ]
        },
        {
          "output_type": "stream",
          "name": "stdout",
          "text": [
            "\b\b\b\b\b\b\b\b\b\b\b\b\b\b\b\b\b\b\b\b\b\b\b\b\b\b\b\b\b\b\b\b\b\b\b\b\b\b\b\b\b\b\b\b\b\b\b\b\b\b\b\b\b\b\b\b\b\b\b\b\b\b\b\b\b\b\b\b\b\b\b\b\b\b\b\b\b\b\b\b\b\b\b\b\r188/188 [==============================] - 137s 729ms/step - loss: 0.3280 - accuracy: 0.9124 - val_loss: 0.1875 - val_accuracy: 0.9428 - lr: 1.0000e-04\n",
            "Epoch 7/30\n",
            "188/188 [==============================] - ETA: 0s - loss: 0.2525 - accuracy: 0.9311"
          ]
        },
        {
          "output_type": "stream",
          "name": "stderr",
          "text": [
            "WARNING:absl:Found untraced functions such as _jit_compiled_convolution_op, _jit_compiled_convolution_op, _jit_compiled_convolution_op, _jit_compiled_convolution_op, _jit_compiled_convolution_op while saving (showing 5 of 94). These functions will not be directly callable after loading.\n"
          ]
        },
        {
          "output_type": "stream",
          "name": "stdout",
          "text": [
            "\b\b\b\b\b\b\b\b\b\b\b\b\b\b\b\b\b\b\b\b\b\b\b\b\b\b\b\b\b\b\b\b\b\b\b\b\b\b\b\b\b\b\b\b\b\b\b\b\b\b\b\b\b\b\b\b\b\b\b\b\b\b\b\b\b\b\b\b\b\b\b\b\b\b\b\b\b\b\b\b\b\b\b\b\r188/188 [==============================] - 137s 731ms/step - loss: 0.2525 - accuracy: 0.9311 - val_loss: 0.1644 - val_accuracy: 0.9512 - lr: 1.0000e-04\n",
            "Epoch 8/30\n",
            "188/188 [==============================] - ETA: 0s - loss: 0.1877 - accuracy: 0.9498"
          ]
        },
        {
          "output_type": "stream",
          "name": "stderr",
          "text": [
            "WARNING:absl:Found untraced functions such as _jit_compiled_convolution_op, _jit_compiled_convolution_op, _jit_compiled_convolution_op, _jit_compiled_convolution_op, _jit_compiled_convolution_op while saving (showing 5 of 94). These functions will not be directly callable after loading.\n"
          ]
        },
        {
          "output_type": "stream",
          "name": "stdout",
          "text": [
            "\b\b\b\b\b\b\b\b\b\b\b\b\b\b\b\b\b\b\b\b\b\b\b\b\b\b\b\b\b\b\b\b\b\b\b\b\b\b\b\b\b\b\b\b\b\b\b\b\b\b\b\b\b\b\b\b\b\b\b\b\b\b\b\b\b\b\b\b\b\b\b\b\b\b\b\b\b\b\b\b\b\b\b\b\r188/188 [==============================] - 137s 728ms/step - loss: 0.1877 - accuracy: 0.9498 - val_loss: 0.0943 - val_accuracy: 0.9781 - lr: 1.0000e-04\n",
            "Epoch 9/30\n",
            "188/188 [==============================] - ETA: 0s - loss: 0.1678 - accuracy: 0.9535"
          ]
        },
        {
          "output_type": "stream",
          "name": "stderr",
          "text": [
            "WARNING:absl:Found untraced functions such as _jit_compiled_convolution_op, _jit_compiled_convolution_op, _jit_compiled_convolution_op, _jit_compiled_convolution_op, _jit_compiled_convolution_op while saving (showing 5 of 94). These functions will not be directly callable after loading.\n"
          ]
        },
        {
          "output_type": "stream",
          "name": "stdout",
          "text": [
            "\b\b\b\b\b\b\b\b\b\b\b\b\b\b\b\b\b\b\b\b\b\b\b\b\b\b\b\b\b\b\b\b\b\b\b\b\b\b\b\b\b\b\b\b\b\b\b\b\b\b\b\b\b\b\b\b\b\b\b\b\b\b\b\b\b\b\b\b\b\b\b\b\b\b\b\b\b\b\b\b\b\b\b\b\r188/188 [==============================] - 136s 727ms/step - loss: 0.1678 - accuracy: 0.9535 - val_loss: 0.1663 - val_accuracy: 0.9545 - lr: 1.0000e-04\n",
            "Epoch 10/30\n",
            "188/188 [==============================] - ETA: 0s - loss: 0.1333 - accuracy: 0.9665"
          ]
        },
        {
          "output_type": "stream",
          "name": "stderr",
          "text": [
            "WARNING:absl:Found untraced functions such as _jit_compiled_convolution_op, _jit_compiled_convolution_op, _jit_compiled_convolution_op, _jit_compiled_convolution_op, _jit_compiled_convolution_op while saving (showing 5 of 94). These functions will not be directly callable after loading.\n"
          ]
        },
        {
          "output_type": "stream",
          "name": "stdout",
          "text": [
            "\b\b\b\b\b\b\b\b\b\b\b\b\b\b\b\b\b\b\b\b\b\b\b\b\b\b\b\b\b\b\b\b\b\b\b\b\b\b\b\b\b\b\b\b\b\b\b\b\b\b\b\b\b\b\b\b\b\b\b\b\b\b\b\b\b\b\b\b\b\b\b\b\b\b\b\b\b\b\b\b\b\b\b\b\r188/188 [==============================] - 137s 730ms/step - loss: 0.1333 - accuracy: 0.9665 - val_loss: 0.0657 - val_accuracy: 0.9832 - lr: 1.0000e-04\n",
            "Epoch 11/30\n",
            "188/188 [==============================] - ETA: 0s - loss: 0.1160 - accuracy: 0.9683"
          ]
        },
        {
          "output_type": "stream",
          "name": "stderr",
          "text": [
            "WARNING:absl:Found untraced functions such as _jit_compiled_convolution_op, _jit_compiled_convolution_op, _jit_compiled_convolution_op, _jit_compiled_convolution_op, _jit_compiled_convolution_op while saving (showing 5 of 94). These functions will not be directly callable after loading.\n"
          ]
        },
        {
          "output_type": "stream",
          "name": "stdout",
          "text": [
            "\b\b\b\b\b\b\b\b\b\b\b\b\b\b\b\b\b\b\b\b\b\b\b\b\b\b\b\b\b\b\b\b\b\b\b\b\b\b\b\b\b\b\b\b\b\b\b\b\b\b\b\b\b\b\b\b\b\b\b\b\b\b\b\b\b\b\b\b\b\b\b\b\b\b\b\b\b\b\b\b\b\b\b\b\r188/188 [==============================] - 138s 733ms/step - loss: 0.1160 - accuracy: 0.9683 - val_loss: 0.0744 - val_accuracy: 0.9815 - lr: 1.0000e-04\n",
            "Epoch 12/30\n",
            "188/188 [==============================] - ETA: 0s - loss: 0.1165 - accuracy: 0.9696"
          ]
        },
        {
          "output_type": "stream",
          "name": "stderr",
          "text": [
            "WARNING:absl:Found untraced functions such as _jit_compiled_convolution_op, _jit_compiled_convolution_op, _jit_compiled_convolution_op, _jit_compiled_convolution_op, _jit_compiled_convolution_op while saving (showing 5 of 94). These functions will not be directly callable after loading.\n"
          ]
        },
        {
          "output_type": "stream",
          "name": "stdout",
          "text": [
            "\b\b\b\b\b\b\b\b\b\b\b\b\b\b\b\b\b\b\b\b\b\b\b\b\b\b\b\b\b\b\b\b\b\b\b\b\b\b\b\b\b\b\b\b\b\b\b\b\b\b\b\b\b\b\b\b\b\b\b\b\b\b\b\b\b\b\b\b\b\b\b\b\b\b\b\b\b\b\b\b\b\b\b\b\r188/188 [==============================] - 139s 743ms/step - loss: 0.1165 - accuracy: 0.9696 - val_loss: 0.0786 - val_accuracy: 0.9781 - lr: 1.0000e-04\n",
            "Epoch 13/30\n",
            "188/188 [==============================] - ETA: 0s - loss: 0.1379 - accuracy: 0.9610"
          ]
        },
        {
          "output_type": "stream",
          "name": "stderr",
          "text": [
            "WARNING:absl:Found untraced functions such as _jit_compiled_convolution_op, _jit_compiled_convolution_op, _jit_compiled_convolution_op, _jit_compiled_convolution_op, _jit_compiled_convolution_op while saving (showing 5 of 94). These functions will not be directly callable after loading.\n"
          ]
        },
        {
          "output_type": "stream",
          "name": "stdout",
          "text": [
            "\b\b\b\b\b\b\b\b\b\b\b\b\b\b\b\b\b\b\b\b\b\b\b\b\b\b\b\b\b\b\b\b\b\b\b\b\b\b\b\b\b\b\b\b\b\b\b\b\b\b\b\b\b\b\b\b\b\b\b\b\b\b\b\b\b\b\b\b\b\b\b\b\b\b\b\b\b\b\b\b\b\b\b\b\r188/188 [==============================] - 140s 744ms/step - loss: 0.1379 - accuracy: 0.9610 - val_loss: 0.0594 - val_accuracy: 0.9865 - lr: 1.0000e-04\n",
            "Epoch 14/30\n",
            "188/188 [==============================] - ETA: 0s - loss: 0.1216 - accuracy: 0.9650"
          ]
        },
        {
          "output_type": "stream",
          "name": "stderr",
          "text": [
            "WARNING:absl:Found untraced functions such as _jit_compiled_convolution_op, _jit_compiled_convolution_op, _jit_compiled_convolution_op, _jit_compiled_convolution_op, _jit_compiled_convolution_op while saving (showing 5 of 94). These functions will not be directly callable after loading.\n"
          ]
        },
        {
          "output_type": "stream",
          "name": "stdout",
          "text": [
            "\b\b\b\b\b\b\b\b\b\b\b\b\b\b\b\b\b\b\b\b\b\b\b\b\b\b\b\b\b\b\b\b\b\b\b\b\b\b\b\b\b\b\b\b\b\b\b\b\b\b\b\b\b\b\b\b\b\b\b\b\b\b\b\b\b\b\b\b\b\b\b\b\b\b\b\b\b\b\b\b\b\b\b\b\r188/188 [==============================] - 137s 732ms/step - loss: 0.1216 - accuracy: 0.9650 - val_loss: 0.1055 - val_accuracy: 0.9663 - lr: 1.0000e-04\n",
            "Epoch 15/30\n",
            "188/188 [==============================] - ETA: 0s - loss: 0.1225 - accuracy: 0.9651"
          ]
        },
        {
          "output_type": "stream",
          "name": "stderr",
          "text": [
            "WARNING:absl:Found untraced functions such as _jit_compiled_convolution_op, _jit_compiled_convolution_op, _jit_compiled_convolution_op, _jit_compiled_convolution_op, _jit_compiled_convolution_op while saving (showing 5 of 94). These functions will not be directly callable after loading.\n"
          ]
        },
        {
          "output_type": "stream",
          "name": "stdout",
          "text": [
            "\b\b\b\b\b\b\b\b\b\b\b\b\b\b\b\b\b\b\b\b\b\b\b\b\b\b\b\b\b\b\b\b\b\b\b\b\b\b\b\b\b\b\b\b\b\b\b\b\b\b\b\b\b\b\b\b\b\b\b\b\b\b\b\b\b\b\b\b\b\b\b\b\b\b\b\b\b\b\b\b\b\b\b\b\r188/188 [==============================] - 137s 728ms/step - loss: 0.1225 - accuracy: 0.9651 - val_loss: 0.1060 - val_accuracy: 0.9680 - lr: 1.0000e-04\n",
            "Epoch 16/30\n",
            "188/188 [==============================] - ETA: 0s - loss: 0.1022 - accuracy: 0.9720"
          ]
        },
        {
          "output_type": "stream",
          "name": "stderr",
          "text": [
            "WARNING:absl:Found untraced functions such as _jit_compiled_convolution_op, _jit_compiled_convolution_op, _jit_compiled_convolution_op, _jit_compiled_convolution_op, _jit_compiled_convolution_op while saving (showing 5 of 94). These functions will not be directly callable after loading.\n"
          ]
        },
        {
          "output_type": "stream",
          "name": "stdout",
          "text": [
            "\b\b\b\b\b\b\b\b\b\b\b\b\b\b\b\b\b\b\b\b\b\b\b\b\b\b\b\b\b\b\b\b\b\b\b\b\b\b\b\b\b\b\b\b\b\b\b\b\b\b\b\b\b\b\b\b\b\b\b\b\b\b\b\b\b\b\b\b\b\b\b\b\b\b\b\b\b\b\b\b\b\b\b\b\r188/188 [==============================] - 137s 730ms/step - loss: 0.1022 - accuracy: 0.9720 - val_loss: 0.0459 - val_accuracy: 0.9899 - lr: 1.0000e-04\n",
            "Epoch 17/30\n",
            "188/188 [==============================] - ETA: 0s - loss: 0.0883 - accuracy: 0.9768"
          ]
        },
        {
          "output_type": "stream",
          "name": "stderr",
          "text": [
            "WARNING:absl:Found untraced functions such as _jit_compiled_convolution_op, _jit_compiled_convolution_op, _jit_compiled_convolution_op, _jit_compiled_convolution_op, _jit_compiled_convolution_op while saving (showing 5 of 94). These functions will not be directly callable after loading.\n"
          ]
        },
        {
          "output_type": "stream",
          "name": "stdout",
          "text": [
            "\b\b\b\b\b\b\b\b\b\b\b\b\b\b\b\b\b\b\b\b\b\b\b\b\b\b\b\b\b\b\b\b\b\b\b\b\b\b\b\b\b\b\b\b\b\b\b\b\b\b\b\b\b\b\b\b\b\b\b\b\b\b\b\b\b\b\b\b\b\b\b\b\b\b\b\b\b\b\b\b\b\b\b\b\r188/188 [==============================] - 137s 728ms/step - loss: 0.0883 - accuracy: 0.9768 - val_loss: 0.0767 - val_accuracy: 0.9731 - lr: 1.0000e-04\n",
            "Epoch 18/30\n",
            "188/188 [==============================] - ETA: 0s - loss: 0.1015 - accuracy: 0.9703"
          ]
        },
        {
          "output_type": "stream",
          "name": "stderr",
          "text": [
            "WARNING:absl:Found untraced functions such as _jit_compiled_convolution_op, _jit_compiled_convolution_op, _jit_compiled_convolution_op, _jit_compiled_convolution_op, _jit_compiled_convolution_op while saving (showing 5 of 94). These functions will not be directly callable after loading.\n"
          ]
        },
        {
          "output_type": "stream",
          "name": "stdout",
          "text": [
            "\b\b\b\b\b\b\b\b\b\b\b\b\b\b\b\b\b\b\b\b\b\b\b\b\b\b\b\b\b\b\b\b\b\b\b\b\b\b\b\b\b\b\b\b\b\b\b\b\b\b\b\b\b\b\b\b\b\b\b\b\b\b\b\b\b\b\b\b\b\b\b\b\b\b\b\b\b\b\b\b\b\b\b\b\r188/188 [==============================] - 136s 727ms/step - loss: 0.1015 - accuracy: 0.9703 - val_loss: 0.0422 - val_accuracy: 0.9933 - lr: 1.0000e-04\n",
            "Epoch 19/30\n",
            "188/188 [==============================] - ETA: 0s - loss: 0.0791 - accuracy: 0.9780"
          ]
        },
        {
          "output_type": "stream",
          "name": "stderr",
          "text": [
            "WARNING:absl:Found untraced functions such as _jit_compiled_convolution_op, _jit_compiled_convolution_op, _jit_compiled_convolution_op, _jit_compiled_convolution_op, _jit_compiled_convolution_op while saving (showing 5 of 94). These functions will not be directly callable after loading.\n"
          ]
        },
        {
          "output_type": "stream",
          "name": "stdout",
          "text": [
            "\b\b\b\b\b\b\b\b\b\b\b\b\b\b\b\b\b\b\b\b\b\b\b\b\b\b\b\b\b\b\b\b\b\b\b\b\b\b\b\b\b\b\b\b\b\b\b\b\b\b\b\b\b\b\b\b\b\b\b\b\b\b\b\b\b\b\b\b\b\b\b\b\b\b\b\b\b\b\b\b\b\b\b\b\r188/188 [==============================] - 184s 983ms/step - loss: 0.0791 - accuracy: 0.9780 - val_loss: 0.0757 - val_accuracy: 0.9781 - lr: 1.0000e-04\n",
            "Epoch 20/30\n",
            "188/188 [==============================] - ETA: 0s - loss: 0.0889 - accuracy: 0.9758"
          ]
        },
        {
          "output_type": "stream",
          "name": "stderr",
          "text": [
            "WARNING:absl:Found untraced functions such as _jit_compiled_convolution_op, _jit_compiled_convolution_op, _jit_compiled_convolution_op, _jit_compiled_convolution_op, _jit_compiled_convolution_op while saving (showing 5 of 94). These functions will not be directly callable after loading.\n"
          ]
        },
        {
          "output_type": "stream",
          "name": "stdout",
          "text": [
            "\b\b\b\b\b\b\b\b\b\b\b\b\b\b\b\b\b\b\b\b\b\b\b\b\b\b\b\b\b\b\b\b\b\b\b\b\b\b\b\b\b\b\b\b\b\b\b\b\b\b\b\b\b\b\b\b\b\b\b\b\b\b\b\b\b\b\b\b\b\b\b\b\b\b\b\b\b\b\b\b\b\b\b\b\r188/188 [==============================] - 137s 731ms/step - loss: 0.0889 - accuracy: 0.9758 - val_loss: 0.0885 - val_accuracy: 0.9781 - lr: 1.0000e-04\n",
            "Epoch 21/30\n",
            "188/188 [==============================] - ETA: 0s - loss: 0.1021 - accuracy: 0.9708"
          ]
        },
        {
          "output_type": "stream",
          "name": "stderr",
          "text": [
            "WARNING:absl:Found untraced functions such as _jit_compiled_convolution_op, _jit_compiled_convolution_op, _jit_compiled_convolution_op, _jit_compiled_convolution_op, _jit_compiled_convolution_op while saving (showing 5 of 94). These functions will not be directly callable after loading.\n"
          ]
        },
        {
          "output_type": "stream",
          "name": "stdout",
          "text": [
            "\b\b\b\b\b\b\b\b\b\b\b\b\b\b\b\b\b\b\b\b\b\b\b\b\b\b\b\b\b\b\b\b\b\b\b\b\b\b\b\b\b\b\b\b\b\b\b\b\b\b\b\b\b\b\b\b\b\b\b\b\b\b\b\b\b\b\b\b\b\b\b\b\b\b\b\b\b\b\b\b\b\b\b\b\r188/188 [==============================] - 137s 730ms/step - loss: 0.1021 - accuracy: 0.9708 - val_loss: 0.1082 - val_accuracy: 0.9731 - lr: 1.0000e-04\n",
            "Epoch 22/30\n",
            "188/188 [==============================] - ETA: 0s - loss: 0.1043 - accuracy: 0.9691"
          ]
        },
        {
          "output_type": "stream",
          "name": "stderr",
          "text": [
            "WARNING:absl:Found untraced functions such as _jit_compiled_convolution_op, _jit_compiled_convolution_op, _jit_compiled_convolution_op, _jit_compiled_convolution_op, _jit_compiled_convolution_op while saving (showing 5 of 94). These functions will not be directly callable after loading.\n"
          ]
        },
        {
          "output_type": "stream",
          "name": "stdout",
          "text": [
            "\b\b\b\b\b\b\b\b\b\b\b\b\b\b\b\b\b\b\b\b\b\b\b\b\b\b\b\b\b\b\b\b\b\b\b\b\b\b\b\b\b\b\b\b\b\b\b\b\b\b\b\b\b\b\b\b\b\b\b\b\b\b\b\b\b\b\b\b\b\b\b\b\b\b\b\b\b\b\b\b\b\b\b\b\r188/188 [==============================] - 137s 732ms/step - loss: 0.1043 - accuracy: 0.9691 - val_loss: 0.0816 - val_accuracy: 0.9714 - lr: 1.0000e-04\n",
            "Epoch 23/30\n",
            "188/188 [==============================] - ETA: 0s - loss: 0.0932 - accuracy: 0.9716"
          ]
        },
        {
          "output_type": "stream",
          "name": "stderr",
          "text": [
            "WARNING:absl:Found untraced functions such as _jit_compiled_convolution_op, _jit_compiled_convolution_op, _jit_compiled_convolution_op, _jit_compiled_convolution_op, _jit_compiled_convolution_op while saving (showing 5 of 94). These functions will not be directly callable after loading.\n"
          ]
        },
        {
          "output_type": "stream",
          "name": "stdout",
          "text": [
            "\b\b\b\b\b\b\b\b\b\b\b\b\b\b\b\b\b\b\b\b\b\b\b\b\b\b\b\b\b\b\b\b\b\b\b\b\b\b\b\b\b\b\b\b\b\b\b\b\b\b\b\b\b\b\b\b\b\b\b\b\b\b\b\b\b\b\b\b\b\b\b\b\b\b\b\b\b\b\b\b\b\b\b\b\r188/188 [==============================] - 137s 728ms/step - loss: 0.0932 - accuracy: 0.9716 - val_loss: 0.0983 - val_accuracy: 0.9714 - lr: 1.0000e-04\n",
            "Epoch 24/30\n",
            "188/188 [==============================] - ETA: 0s - loss: 0.0731 - accuracy: 0.9780"
          ]
        },
        {
          "output_type": "stream",
          "name": "stderr",
          "text": [
            "WARNING:absl:Found untraced functions such as _jit_compiled_convolution_op, _jit_compiled_convolution_op, _jit_compiled_convolution_op, _jit_compiled_convolution_op, _jit_compiled_convolution_op while saving (showing 5 of 94). These functions will not be directly callable after loading.\n"
          ]
        },
        {
          "output_type": "stream",
          "name": "stdout",
          "text": [
            "\b\b\b\b\b\b\b\b\b\b\b\b\b\b\b\b\b\b\b\b\b\b\b\b\b\b\b\b\b\b\b\b\b\b\b\b\b\b\b\b\b\b\b\b\b\b\b\b\b\b\b\b\b\b\b\b\b\b\b\b\b\b\b\b\b\b\b\b\b\b\b\b\b\b\b\b\b\b\b\b\b\b\b\b\r188/188 [==============================] - 138s 737ms/step - loss: 0.0731 - accuracy: 0.9780 - val_loss: 0.1016 - val_accuracy: 0.9764 - lr: 1.0000e-04\n",
            "Epoch 25/30\n",
            "188/188 [==============================] - ETA: 0s - loss: 0.0968 - accuracy: 0.9745"
          ]
        },
        {
          "output_type": "stream",
          "name": "stderr",
          "text": [
            "WARNING:absl:Found untraced functions such as _jit_compiled_convolution_op, _jit_compiled_convolution_op, _jit_compiled_convolution_op, _jit_compiled_convolution_op, _jit_compiled_convolution_op while saving (showing 5 of 94). These functions will not be directly callable after loading.\n"
          ]
        },
        {
          "output_type": "stream",
          "name": "stdout",
          "text": [
            "\b\b\b\b\b\b\b\b\b\b\b\b\b\b\b\b\b\b\b\b\b\b\b\b\b\b\b\b\b\b\b\b\b\b\b\b\b\b\b\b\b\b\b\b\b\b\b\b\b\b\b\b\b\b\b\b\b\b\b\b\b\b\b\b\b\b\b\b\b\b\b\b\b\b\b\b\b\b\b\b\b\b\b\b\r188/188 [==============================] - 137s 731ms/step - loss: 0.0968 - accuracy: 0.9745 - val_loss: 0.0225 - val_accuracy: 0.9933 - lr: 1.0000e-04\n",
            "Epoch 26/30\n",
            "188/188 [==============================] - ETA: 0s - loss: 0.0596 - accuracy: 0.9823"
          ]
        },
        {
          "output_type": "stream",
          "name": "stderr",
          "text": [
            "WARNING:absl:Found untraced functions such as _jit_compiled_convolution_op, _jit_compiled_convolution_op, _jit_compiled_convolution_op, _jit_compiled_convolution_op, _jit_compiled_convolution_op while saving (showing 5 of 94). These functions will not be directly callable after loading.\n"
          ]
        },
        {
          "output_type": "stream",
          "name": "stdout",
          "text": [
            "\b\b\b\b\b\b\b\b\b\b\b\b\b\b\b\b\b\b\b\b\b\b\b\b\b\b\b\b\b\b\b\b\b\b\b\b\b\b\b\b\b\b\b\b\b\b\b\b\b\b\b\b\b\b\b\b\b\b\b\b\b\b\b\b\b\b\b\b\b\b\b\b\b\b\b\b\b\b\b\b\b\b\b\b\r188/188 [==============================] - 137s 732ms/step - loss: 0.0596 - accuracy: 0.9823 - val_loss: 0.0323 - val_accuracy: 0.9949 - lr: 1.0000e-04\n",
            "Epoch 27/30\n",
            "188/188 [==============================] - ETA: 0s - loss: 0.0661 - accuracy: 0.9820"
          ]
        },
        {
          "output_type": "stream",
          "name": "stderr",
          "text": [
            "WARNING:absl:Found untraced functions such as _jit_compiled_convolution_op, _jit_compiled_convolution_op, _jit_compiled_convolution_op, _jit_compiled_convolution_op, _jit_compiled_convolution_op while saving (showing 5 of 94). These functions will not be directly callable after loading.\n"
          ]
        },
        {
          "output_type": "stream",
          "name": "stdout",
          "text": [
            "\b\b\b\b\b\b\b\b\b\b\b\b\b\b\b\b\b\b\b\b\b\b\b\b\b\b\b\b\b\b\b\b\b\b\b\b\b\b\b\b\b\b\b\b\b\b\b\b\b\b\b\b\b\b\b\b\b\b\b\b\b\b\b\b\b\b\b\b\b\b\b\b\b\b\b\b\b\b\b\b\b\b\b\b\r188/188 [==============================] - 137s 732ms/step - loss: 0.0661 - accuracy: 0.9820 - val_loss: 0.0767 - val_accuracy: 0.9798 - lr: 1.0000e-04\n",
            "Epoch 28/30\n",
            "188/188 [==============================] - ETA: 0s - loss: 0.0754 - accuracy: 0.9781"
          ]
        },
        {
          "output_type": "stream",
          "name": "stderr",
          "text": [
            "WARNING:absl:Found untraced functions such as _jit_compiled_convolution_op, _jit_compiled_convolution_op, _jit_compiled_convolution_op, _jit_compiled_convolution_op, _jit_compiled_convolution_op while saving (showing 5 of 94). These functions will not be directly callable after loading.\n"
          ]
        },
        {
          "output_type": "stream",
          "name": "stdout",
          "text": [
            "\b\b\b\b\b\b\b\b\b\b\b\b\b\b\b\b\b\b\b\b\b\b\b\b\b\b\b\b\b\b\b\b\b\b\b\b\b\b\b\b\b\b\b\b\b\b\b\b\b\b\b\b\b\b\b\b\b\b\b\b\b\b\b\b\b\b\b\b\b\b\b\b\b\b\b\b\b\b\b\b\b\b\b\b\r188/188 [==============================] - 139s 741ms/step - loss: 0.0754 - accuracy: 0.9781 - val_loss: 0.0461 - val_accuracy: 0.9815 - lr: 1.0000e-04\n",
            "Epoch 29/30\n",
            "188/188 [==============================] - ETA: 0s - loss: 0.0712 - accuracy: 0.9790"
          ]
        },
        {
          "output_type": "stream",
          "name": "stderr",
          "text": [
            "WARNING:absl:Found untraced functions such as _jit_compiled_convolution_op, _jit_compiled_convolution_op, _jit_compiled_convolution_op, _jit_compiled_convolution_op, _jit_compiled_convolution_op while saving (showing 5 of 94). These functions will not be directly callable after loading.\n"
          ]
        },
        {
          "output_type": "stream",
          "name": "stdout",
          "text": [
            "\b\b\b\b\b\b\b\b\b\b\b\b\b\b\b\b\b\b\b\b\b\b\b\b\b\b\b\b\b\b\b\b\b\b\b\b\b\b\b\b\b\b\b\b\b\b\b\b\b\b\b\b\b\b\b\b\b\b\b\b\b\b\b\b\b\b\b\b\b\b\b\b\b\b\b\b\b\b\b\b\b\b\b\b\r188/188 [==============================] - 140s 745ms/step - loss: 0.0712 - accuracy: 0.9790 - val_loss: 0.0341 - val_accuracy: 0.9865 - lr: 1.0000e-04\n",
            "Epoch 30/30\n",
            "188/188 [==============================] - ETA: 0s - loss: 0.0564 - accuracy: 0.9847"
          ]
        },
        {
          "output_type": "stream",
          "name": "stderr",
          "text": [
            "WARNING:absl:Found untraced functions such as _jit_compiled_convolution_op, _jit_compiled_convolution_op, _jit_compiled_convolution_op, _jit_compiled_convolution_op, _jit_compiled_convolution_op while saving (showing 5 of 94). These functions will not be directly callable after loading.\n"
          ]
        },
        {
          "output_type": "stream",
          "name": "stdout",
          "text": [
            "\b\b\b\b\b\b\b\b\b\b\b\b\b\b\b\b\b\b\b\b\b\b\b\b\b\b\b\b\b\b\b\b\b\b\b\b\b\b\b\b\b\b\b\b\b\b\b\b\b\b\b\b\b\b\b\b\b\b\b\b\b\b\b\b\b\b\b\b\b\b\b\b\b\b\b\b\b\b\b\b\b\b\b\b\r188/188 [==============================] - 139s 738ms/step - loss: 0.0564 - accuracy: 0.9847 - val_loss: 0.0145 - val_accuracy: 0.9966 - lr: 1.0000e-04\n"
          ]
        }
      ]
    },
    {
      "cell_type": "code",
      "source": [
        "results = model.evaluate(test_generator, verbose=0)\n",
        "print(results)\n",
        "print(f\"Test Accuracy: {np.round(results[1] * 100,2)}%\")"
      ],
      "metadata": {
        "colab": {
          "base_uri": "https://localhost:8080/"
        },
        "id": "YvaMqczFEdGb",
        "outputId": "299abafc-7986-4e67-a408-3a91d4dde7a7"
      },
      "execution_count": 18,
      "outputs": [
        {
          "output_type": "stream",
          "name": "stdout",
          "text": [
            "[1.6889314651489258, 0.6693130731582642]\n",
            "Test Accuracy: 66.93%\n"
          ]
        }
      ]
    },
    {
      "cell_type": "code",
      "execution_count": 32,
      "metadata": {
        "colab": {
          "base_uri": "https://localhost:8080/"
        },
        "id": "5rXAkec-0Fii",
        "outputId": "b7e1ebe9-08e1-4f5b-874b-566a18953245"
      },
      "outputs": [
        {
          "output_type": "stream",
          "name": "stdout",
          "text": [
            "181/724 [======>.......................] - ETA: 1:33"
          ]
        },
        {
          "output_type": "stream",
          "name": "stderr",
          "text": [
            "WARNING:tensorflow:Your input ran out of data; interrupting training. Make sure that your dataset or generator can generate at least `steps_per_epoch * epochs` batches (in this case, 724 batches). You may need to use the repeat() function when building your dataset.\n"
          ]
        },
        {
          "output_type": "stream",
          "name": "stdout",
          "text": [
            "\b\b\b\b\b\b\b\b\b\b\b\b\b\b\b\b\b\b\b\b\b\b\b\b\b\b\b\b\b\b\b\b\b\b\b\b\b\b\b\b\b\b\b\b\b\b\b\b\b\b\b\b\r724/724 [==============================] - 31s 43ms/step\n",
            "accuracy score: 0.669313082499137\n",
            "F1 score:  0.6657070601248848\n",
            "precision:  0.7003359267563795\n",
            "Confusion Matrix:\n",
            " [[22  1  0 ...  0  0  0]\n",
            " [ 1 18  0 ...  0  0  0]\n",
            " [ 5  4 10 ...  0  0  0]\n",
            " ...\n",
            " [ 0  0  0 ... 20  0  0]\n",
            " [ 0  0  0 ...  1 14  0]\n",
            " [ 0  0  0 ...  0  0 24]]\n",
            "Classification Report:\n",
            "               precision    recall  f1-score   support\n",
            "\n",
            "           0       0.54      0.73      0.62        30\n",
            "           1       0.78      0.60      0.68        30\n",
            "           2       1.00      0.36      0.53        28\n",
            "           3       0.62      0.60      0.61        30\n",
            "           4       0.80      0.86      0.83        14\n",
            "           5       1.00      0.82      0.90        11\n",
            "           6       0.95      0.91      0.93        23\n",
            "           7       0.80      0.67      0.73        18\n",
            "           8       0.61      0.38      0.47        29\n",
            "           9       0.83      0.83      0.83        30\n",
            "          10       0.64      0.30      0.41        30\n",
            "          11       0.96      0.88      0.92        26\n",
            "          12       0.96      0.83      0.89        30\n",
            "          13       0.79      0.77      0.78        30\n",
            "          14       0.80      0.86      0.83        28\n",
            "          15       0.92      0.86      0.89        28\n",
            "          16       0.84      0.96      0.90        27\n",
            "          17       0.71      1.00      0.83        15\n",
            "          18       0.93      0.90      0.91        29\n",
            "          19       0.81      0.76      0.79        29\n",
            "          20       0.86      0.80      0.83        30\n",
            "          21       0.67      0.23      0.34        26\n",
            "          22       0.56      0.52      0.54        29\n",
            "          23       0.89      0.73      0.80        22\n",
            "          24       0.40      0.47      0.43        30\n",
            "          25       0.61      0.77      0.68        30\n",
            "          26       0.35      0.23      0.28        30\n",
            "          27       0.86      0.86      0.86        29\n",
            "          28       0.62      0.27      0.37        30\n",
            "          29       0.28      0.33      0.30        30\n",
            "          30       0.52      0.53      0.52        30\n",
            "          31       0.69      0.48      0.56        23\n",
            "          32       0.37      0.38      0.37        29\n",
            "          33       1.00      0.62      0.77        29\n",
            "          34       0.81      0.83      0.82        30\n",
            "          35       0.92      0.80      0.86        30\n",
            "          36       0.53      0.28      0.36        29\n",
            "          37       0.56      0.60      0.58        30\n",
            "          38       0.40      0.28      0.33        29\n",
            "          39       0.38      0.57      0.45        30\n",
            "          40       0.52      0.83      0.64        30\n",
            "          41       0.84      0.90      0.87        30\n",
            "          42       0.52      0.41      0.46        29\n",
            "          43       0.64      0.77      0.70        30\n",
            "          44       0.71      0.50      0.59        30\n",
            "          45       0.65      0.87      0.74        30\n",
            "          46       0.84      0.87      0.85        30\n",
            "          47       0.82      0.93      0.87        30\n",
            "          48       0.53      0.57      0.55        30\n",
            "          49       0.69      0.67      0.68        30\n",
            "          50       0.70      0.70      0.70        30\n",
            "          51       0.92      0.80      0.86        30\n",
            "          52       0.97      0.93      0.95        30\n",
            "          53       0.87      0.67      0.75        30\n",
            "          54       0.96      0.83      0.89        30\n",
            "          55       1.00      0.67      0.80        30\n",
            "          56       1.00      0.83      0.91        30\n",
            "          57       0.79      0.82      0.81        28\n",
            "          58       0.48      0.33      0.39        30\n",
            "          59       0.42      0.38      0.40        29\n",
            "          60       0.96      0.80      0.87        30\n",
            "          61       0.22      0.37      0.27        30\n",
            "          62       0.53      0.97      0.68        30\n",
            "          63       0.42      0.33      0.37        30\n",
            "          64       0.50      0.40      0.44        20\n",
            "          65       0.46      0.63      0.54        30\n",
            "          66       0.72      0.43      0.54        30\n",
            "          67       0.70      0.70      0.70        30\n",
            "          68       0.82      0.77      0.79        30\n",
            "          69       0.84      0.87      0.85        30\n",
            "          70       0.58      0.47      0.52        30\n",
            "          71       0.50      0.27      0.35        30\n",
            "          72       0.92      0.77      0.84        30\n",
            "          73       0.80      0.93      0.86        30\n",
            "          74       0.96      0.93      0.94        27\n",
            "          75       0.73      0.90      0.81        30\n",
            "          76       0.67      0.73      0.70        30\n",
            "          77       0.55      0.79      0.65        29\n",
            "          78       0.65      0.80      0.72        30\n",
            "          79       0.71      0.73      0.72        30\n",
            "          80       0.96      0.83      0.89        30\n",
            "          81       0.72      0.60      0.65        30\n",
            "          82       0.89      0.83      0.86        30\n",
            "          83       0.74      0.61      0.67        23\n",
            "          84       0.74      0.93      0.82        30\n",
            "          85       0.73      0.90      0.81        30\n",
            "          86       0.96      0.73      0.83        30\n",
            "          87       0.96      0.80      0.87        30\n",
            "          88       0.83      0.80      0.81        30\n",
            "          89       0.76      0.83      0.79        30\n",
            "          90       0.69      0.37      0.48        30\n",
            "          91       0.71      0.83      0.77        30\n",
            "          92       0.96      0.83      0.89        30\n",
            "          93       1.00      0.90      0.95        30\n",
            "          94       0.93      0.47      0.62        30\n",
            "          95       1.00      0.23      0.38        30\n",
            "          96       0.68      0.72      0.70        29\n",
            "          97       0.38      0.83      0.53        30\n",
            "          98       0.72      0.77      0.74        30\n",
            "          99       0.83      0.80      0.81        30\n",
            "         100       0.86      0.95      0.90        20\n",
            "         101       0.80      0.13      0.23        30\n",
            "         102       0.46      0.60      0.52        30\n",
            "         103       0.64      0.53      0.58        30\n",
            "         104       0.47      0.89      0.62        19\n",
            "         105       0.81      0.97      0.88        30\n",
            "         106       0.38      0.37      0.37        30\n",
            "         107       0.94      0.53      0.68        30\n",
            "         108       0.67      0.87      0.75        30\n",
            "         109       0.78      0.93      0.85        30\n",
            "         110       0.62      0.67      0.65        30\n",
            "         111       0.59      0.57      0.58        30\n",
            "         112       0.62      0.50      0.56        20\n",
            "         113       1.00      0.43      0.60        30\n",
            "         114       0.47      0.24      0.32        29\n",
            "         115       0.39      0.57      0.46        30\n",
            "         116       0.37      0.66      0.48        29\n",
            "         117       0.82      0.30      0.44        30\n",
            "         118       0.58      0.52      0.55        29\n",
            "         119       1.00      0.30      0.46        30\n",
            "         120       0.64      0.23      0.34        30\n",
            "         121       0.89      0.57      0.69        30\n",
            "         122       0.63      0.63      0.63        30\n",
            "         123       0.67      0.48      0.56        29\n",
            "         124       0.68      0.52      0.59        29\n",
            "         125       0.63      0.40      0.49        30\n",
            "         126       0.91      0.33      0.49        30\n",
            "         127       0.64      0.53      0.58        30\n",
            "         128       0.31      0.70      0.43        30\n",
            "         129       0.53      0.57      0.55        30\n",
            "         130       0.36      0.70      0.48        30\n",
            "         131       0.84      0.87      0.85        30\n",
            "         132       0.71      0.80      0.75        30\n",
            "         133       0.76      0.93      0.84        30\n",
            "         134       0.45      0.30      0.36        30\n",
            "         135       0.50      0.67      0.57        30\n",
            "         136       0.62      0.50      0.56        30\n",
            "         137       0.81      0.73      0.77        30\n",
            "         138       0.96      0.73      0.83        30\n",
            "         139       0.88      0.97      0.92        30\n",
            "         140       0.44      0.62      0.51        29\n",
            "         141       0.60      0.50      0.55        30\n",
            "         142       0.50      0.27      0.35        30\n",
            "         143       0.16      0.17      0.16        30\n",
            "         144       0.32      0.47      0.38        30\n",
            "         145       0.38      0.40      0.39        30\n",
            "         146       0.45      0.60      0.51        30\n",
            "         147       0.93      0.87      0.90        30\n",
            "         148       0.71      0.83      0.76        29\n",
            "         149       0.88      0.73      0.80        30\n",
            "         150       0.84      0.76      0.80        21\n",
            "         151       0.71      0.73      0.72        30\n",
            "         152       0.41      0.24      0.30        29\n",
            "         153       0.49      0.70      0.58        30\n",
            "         154       0.39      0.57      0.46        30\n",
            "         155       0.82      0.77      0.79        30\n",
            "         156       0.58      0.66      0.61        29\n",
            "         157       0.68      0.77      0.72        30\n",
            "         158       0.90      0.90      0.90        30\n",
            "         159       0.83      0.86      0.85        29\n",
            "         160       0.83      0.67      0.74        30\n",
            "         161       0.62      0.87      0.72        30\n",
            "         162       0.85      0.73      0.79        30\n",
            "         163       0.80      0.93      0.86        30\n",
            "         164       0.69      0.83      0.76        30\n",
            "         165       0.71      0.86      0.78        29\n",
            "         166       0.68      0.90      0.77        30\n",
            "         167       0.81      0.90      0.85        29\n",
            "         168       1.00      0.90      0.95        29\n",
            "         169       0.49      0.80      0.61        30\n",
            "         170       0.52      0.87      0.65        30\n",
            "         171       0.67      0.73      0.70        30\n",
            "         172       0.52      0.50      0.51        30\n",
            "         173       0.44      0.70      0.54        30\n",
            "         174       0.79      0.50      0.61        30\n",
            "         175       0.70      0.93      0.80        30\n",
            "         176       0.96      0.87      0.91        30\n",
            "         177       0.48      0.58      0.53        26\n",
            "         178       0.58      0.48      0.53        29\n",
            "         179       0.88      0.73      0.80        30\n",
            "         180       0.80      0.83      0.81        29\n",
            "         181       0.71      0.90      0.79        30\n",
            "         182       0.89      0.57      0.69        30\n",
            "         183       0.44      0.90      0.59        30\n",
            "         184       1.00      0.83      0.91        30\n",
            "         185       0.74      0.83      0.78        30\n",
            "         186       0.94      0.80      0.86        20\n",
            "         187       0.96      0.87      0.91        30\n",
            "         188       0.76      0.97      0.85        30\n",
            "         189       0.74      0.90      0.81        29\n",
            "         190       0.89      0.83      0.86        30\n",
            "         191       0.84      0.87      0.85        30\n",
            "         192       0.50      0.30      0.37        30\n",
            "         193       0.73      0.73      0.73        30\n",
            "         194       0.82      0.60      0.69        30\n",
            "         195       0.42      0.53      0.47        30\n",
            "         196       0.44      0.80      0.56        30\n",
            "         197       0.59      0.67      0.62        30\n",
            "         198       0.82      0.47      0.60        30\n",
            "         199       0.89      0.80      0.84        30\n",
            "\n",
            "    accuracy                           0.67      5794\n",
            "   macro avg       0.70      0.67      0.67      5794\n",
            "weighted avg       0.70      0.67      0.67      5794\n",
            "\n"
          ]
        }
      ],
      "source": [
        "from sklearn.metrics import classification_report, confusion_matrix, accuracy_score, f1_score, precision_score\n",
        "batch_size = 8\n",
        "# generate the predicted classes for the test data using predict_generator\n",
        "y_pred = model.predict(test_generator, steps=test_generator.samples//batch_size)\n",
        "\n",
        "# get the true classes for the test data\n",
        "y_true = test_generator.classes\n",
        "\n",
        "# convert the predicted classes from one-hot encoding to class indices\n",
        "y_pred_classes = np.argmax(y_pred, axis=1)\n",
        "\n",
        "#compute accuracy score\n",
        "acc = accuracy_score(y_true, y_pred_classes)\n",
        "print(\"accuracy score:\", acc)\n",
        "print(\"F1 score: \", f1_score(y_true, y_pred_classes, average='weighted') )\n",
        "print(\"precision: \",precision_score(y_true, y_pred_classes, average = 'weighted'))\n",
        "\n",
        "# compute the confusion matrix\n",
        "conf_matrix = confusion_matrix(y_true, y_pred_classes)\n",
        "print(\"Confusion Matrix:\\n\", conf_matrix)\n",
        "\n",
        "# compute the classification report\n",
        "class_report = classification_report(y_true, y_pred_classes)\n",
        "print(\"Classification Report:\\n\", class_report)\n"
      ]
    }
  ],
  "metadata": {
    "colab": {
      "provenance": [],
      "machine_shape": "hm"
    },
    "gpuClass": "premium",
    "kernelspec": {
      "display_name": "Python 3",
      "name": "python3"
    },
    "language_info": {
      "name": "python"
    },
    "accelerator": "GPU"
  },
  "nbformat": 4,
  "nbformat_minor": 0
}